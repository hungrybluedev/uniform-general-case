{
 "cells": [
  {
   "cell_type": "code",
   "execution_count": 1,
   "id": "tough-recording",
   "metadata": {},
   "outputs": [],
   "source": [
    "import math\n",
    "import matplotlib.pyplot as plt\n",
    "import numpy as np\n",
    "import random as rn"
   ]
  },
  {
   "cell_type": "code",
   "execution_count": 2,
   "id": "peaceful-market",
   "metadata": {},
   "outputs": [],
   "source": [
    "# The number of Monte Carlo simulation trials to perform\n",
    "trials = 20_000"
   ]
  },
  {
   "cell_type": "code",
   "execution_count": 3,
   "id": "interior-nursery",
   "metadata": {},
   "outputs": [],
   "source": [
    "def get_probability_for(f):\n",
    "    count = 0\n",
    "    \n",
    "    for _ in range(trials):\n",
    "        x = rn.uniform(f, 1)\n",
    "        y = rn.uniform(f, 1)\n",
    "        z = rn.uniform(f, 1)\n",
    "        \n",
    "        if y * y >= 4 * x * z:\n",
    "            count += 1\n",
    "\n",
    "    return float(count) / trials"
   ]
  },
  {
   "cell_type": "code",
   "execution_count": 19,
   "id": "possible-password",
   "metadata": {},
   "outputs": [],
   "source": [
    "v0 = math.log(2) / 6 + 5.0 / 36.0\n",
    "\n",
    "def theoretical_probability_for(f):\n",
    "    if f > 0.5 or f < -1:\n",
    "        return 0\n",
    "    volume = (1 - f)**3\n",
    "    \n",
    "    F = abs(f)\n",
    "    FF = F * F\n",
    "    FFF = F * F * F\n",
    "    F32 = math.sqrt(FFF)\n",
    "    \n",
    "    if f > +0.25: # [0.25, 0.5]\n",
    "        return (-v0 - math.log(F) / 6 + FF - 8.0 / 9 * FFF) / volume\n",
    "    if f > +0:    # [0, 0.25]\n",
    "        return (+v0 - 2 * F + 16.0 / 9 * F32 + FF - 8.0 / 9 * FFF) / volume\n",
    "    if f > -0.5:  # [-0.5, 0]\n",
    "        return (+v0 + 2 * F + 3 * FF + FFF * (2 * v0 - math.log(F) / 6 - 8.0 / 9)) / volume\n",
    "    else:         # [-1, -0.5]\n",
    "        return (2 * (v0 + F + FF) + math.log(F) / 6 + FFF * (2 * v0 - math.log(F) / 6)) / volume"
   ]
  },
  {
   "cell_type": "code",
   "execution_count": 22,
   "id": "integrated-helmet",
   "metadata": {},
   "outputs": [],
   "source": [
    "x = [f for f in np.linspace(-1, +1, num=200, endpoint=True)]\n",
    "y1 = [get_probability_for(f) for f in x]\n",
    "y2 = [theoretical_probability_for(f) for f in x]"
   ]
  },
  {
   "cell_type": "code",
   "execution_count": 24,
   "id": "quantitative-surname",
   "metadata": {},
   "outputs": [
    {
     "data": {
      "application/vnd.jupyter.widget-view+json": {
       "model_id": "e5d52278ac20447b97fda9baf3d4a1db",
       "version_major": 2,
       "version_minor": 0
      },
      "text/plain": [
       "Canvas(toolbar=Toolbar(toolitems=[('Home', 'Reset original view', 'home', 'home'), ('Back', 'Back to previous …"
      ]
     },
     "metadata": {},
     "output_type": "display_data"
    }
   ],
   "source": [
    "# Configuration for the plots\n",
    "%matplotlib widget\n",
    "plt.rcParams[\"figure.figsize\"] = (7, 7)\n",
    "plt.rcParams[\"scatter.marker\"] = \"D\"\n",
    "\n",
    "# Plot the data\n",
    "plt.scatter(x, y1, c=[[0.8, 0.4, 0.2, 0.2]])\n",
    "plt.plot(x, y2)\n",
    "plt.xlabel(\"The ratio of the endpoints: f\")\n",
    "plt.ylabel(\"Probability of a real root\")\n",
    "plt.show()"
   ]
  },
  {
   "cell_type": "code",
   "execution_count": 29,
   "id": "sought-raise",
   "metadata": {},
   "outputs": [
    {
     "data": {
      "text/plain": [
       "0.6276"
      ]
     },
     "execution_count": 29,
     "metadata": {},
     "output_type": "execute_result"
    }
   ],
   "source": [
    "y1[2]"
   ]
  }
 ],
 "metadata": {
  "kernelspec": {
   "display_name": "Python 3",
   "language": "python",
   "name": "python3"
  },
  "language_info": {
   "codemirror_mode": {
    "name": "ipython",
    "version": 3
   },
   "file_extension": ".py",
   "mimetype": "text/x-python",
   "name": "python",
   "nbconvert_exporter": "python",
   "pygments_lexer": "ipython3",
   "version": "3.8.6"
  }
 },
 "nbformat": 4,
 "nbformat_minor": 5
}
