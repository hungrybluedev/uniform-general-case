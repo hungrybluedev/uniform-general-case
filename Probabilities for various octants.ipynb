{
 "cells": [
  {
   "cell_type": "code",
   "execution_count": 1,
   "id": "electronic-mobility",
   "metadata": {},
   "outputs": [],
   "source": [
    "import math\n",
    "import matplotlib.pyplot as plt\n",
    "import numpy as np\n",
    "import random"
   ]
  },
  {
   "cell_type": "code",
   "execution_count": 2,
   "id": "announced-cowboy",
   "metadata": {},
   "outputs": [],
   "source": [
    "trials = 25_000"
   ]
  },
  {
   "cell_type": "code",
   "execution_count": 21,
   "id": "interested-strip",
   "metadata": {},
   "outputs": [],
   "source": [
    "def get_probability(f):\n",
    "    count = 0\n",
    "    for _ in range(trials):\n",
    "        a = random.uniform(0, f)\n",
    "        c = random.uniform(0, f)\n",
    "        b = random.uniform(0, f + f)\n",
    "        \n",
    "        if b * b >= 4 * a * c:\n",
    "            count += 1\n",
    "    \n",
    "    return float(count) / trials"
   ]
  },
  {
   "cell_type": "code",
   "execution_count": 22,
   "id": "temporal-filter",
   "metadata": {},
   "outputs": [],
   "source": [
    "x = [f for f in np.linspace(0, 1, num=200, endpoint=True)]\n",
    "y = [get_probability(f) for f in x]"
   ]
  },
  {
   "cell_type": "code",
   "execution_count": 23,
   "id": "homeless-source",
   "metadata": {},
   "outputs": [
    {
     "data": {
      "text/plain": [
       "[<matplotlib.lines.Line2D at 0x7f8953e5a700>]"
      ]
     },
     "execution_count": 23,
     "metadata": {},
     "output_type": "execute_result"
    },
    {
     "data": {
      "image/png": "[encoded data removed]",
      "text/plain": [
       "<Figure size 432x288 with 1 Axes>"
      ]
     },
     "metadata": {
      "needs_background": "light"
     },
     "output_type": "display_data"
    }
   ],
   "source": [
    "plt.plot(x, y)"
   ]
  },
  {
   "cell_type": "code",
   "execution_count": 25,
   "id": "changing-coordinate",
   "metadata": {},
   "outputs": [
    {
     "data": {
      "text/plain": [
       "0.5523959999999999"
      ]
     },
     "execution_count": 25,
     "metadata": {},
     "output_type": "execute_result"
    }
   ],
   "source": [
    "sum(y[1:]) / 200"
   ]
  }
 ],
 "metadata": {
  "kernelspec": {
   "display_name": "Python 3",
   "language": "python",
   "name": "python3"
  },
  "language_info": {
   "codemirror_mode": {
    "name": "ipython",
    "version": 3
   },
   "file_extension": ".py",
   "mimetype": "text/x-python",
   "name": "python",
   "nbconvert_exporter": "python",
   "pygments_lexer": "ipython3",
   "version": "3.8.6"
  }
 },
 "nbformat": 4,
 "nbformat_minor": 5
}
